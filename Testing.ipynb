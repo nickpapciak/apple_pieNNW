{
 "cells": [
  {
   "cell_type": "code",
   "execution_count": 2,
   "id": "1098f127",
   "metadata": {},
   "outputs": [
    {
     "name": "stdout",
     "output_type": "stream",
     "text": [
      "Epoch 1\n",
      "Epoch 2\n",
      "Epoch 3\n",
      "Epoch 4\n",
      "Epoch 5\n",
      "Epoch 6\n",
      "Epoch 7\n",
      "Epoch 8\n",
      "Epoch 9\n",
      "Epoch 10\n",
      "Epoch 11\n",
      "Epoch 12\n",
      "Epoch 13\n",
      "Epoch 14\n",
      "Epoch 15\n",
      "Epoch 16\n",
      "Epoch 17\n",
      "Epoch 18\n",
      "Epoch 19\n",
      "Epoch 20\n",
      "Epoch 21\n",
      "Epoch 22\n",
      "Epoch 23\n",
      "Epoch 24\n",
      "Epoch 25\n",
      "Epoch 26\n",
      "Epoch 27\n",
      "Epoch 28\n",
      "Epoch 29\n",
      "Epoch 30\n"
     ]
    }
   ],
   "source": [
    "from MNIST import labels, images\n",
    "from Network import Network\n",
    "\n",
    "training_data = images[:50_000]\n",
    "training_truths = labels[:50_000]\n",
    "\n",
    "probing_data = images[50_000:]\n",
    "probing_truths = labels[50_000:]\n",
    "\n",
    "nn = Network([784, 30, 10], data=training_data, truth=training_truths)\n",
    "\n",
    "nn.train(epochs=30, batch_size=10, learning_rate=5)"
   ]
  },
  {
   "cell_type": "code",
   "execution_count": 6,
   "id": "13cd8d5b",
   "metadata": {},
   "outputs": [
    {
     "data": {
      "text/plain": [
       "0.9555"
      ]
     },
     "execution_count": 6,
     "metadata": {},
     "output_type": "execute_result"
    }
   ],
   "source": [
    "nn.evaluate(probing_data, probing_truths) / len(probing_data)"
   ]
  },
  {
   "cell_type": "code",
   "execution_count": 7,
   "id": "832fcf7a",
   "metadata": {},
   "outputs": [],
   "source": [
    "%%capture\n",
    "nn2 = Network([784, 40, 40, 10], data=training_data, truth=training_truths)\n",
    "nn.train(epochs=50, batch_size=10, learning_rate=5)"
   ]
  },
  {
   "cell_type": "code",
   "execution_count": 8,
   "id": "6bd3ce43",
   "metadata": {},
   "outputs": [
    {
     "data": {
      "text/plain": [
       "0.9575"
      ]
     },
     "execution_count": 8,
     "metadata": {},
     "output_type": "execute_result"
    }
   ],
   "source": [
    "nn.evaluate(probing_data, probing_truths) / len(probing_data)"
   ]
  },
  {
   "cell_type": "code",
   "execution_count": null,
   "id": "5051af50",
   "metadata": {},
   "outputs": [],
   "source": []
  }
 ],
 "metadata": {
  "kernelspec": {
   "display_name": "Python 3 (ipykernel)",
   "language": "python",
   "name": "python3"
  },
  "language_info": {
   "codemirror_mode": {
    "name": "ipython",
    "version": 3
   },
   "file_extension": ".py",
   "mimetype": "text/x-python",
   "name": "python",
   "nbconvert_exporter": "python",
   "pygments_lexer": "ipython3",
   "version": "3.10.5"
  }
 },
 "nbformat": 4,
 "nbformat_minor": 5
}
