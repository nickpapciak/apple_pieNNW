{
 "cells": [
  {
   "cell_type": "code",
   "execution_count": 6,
   "id": "1098f127",
   "metadata": {},
   "outputs": [
    {
     "ename": "ModuleNotFoundError",
     "evalue": "No module named 'numpy'",
     "output_type": "error",
     "traceback": [
      "\u001b[0;31m---------------------------------------------------------------------------\u001b[0m",
      "\u001b[0;31mModuleNotFoundError\u001b[0m                       Traceback (most recent call last)",
      "Cell \u001b[0;32mIn[6], line 1\u001b[0m\n\u001b[0;32m----> 1\u001b[0m \u001b[38;5;28;01mfrom\u001b[39;00m \u001b[38;5;21;01mMNIST\u001b[39;00m \u001b[38;5;28;01mimport\u001b[39;00m labels, images\n\u001b[1;32m      2\u001b[0m \u001b[38;5;28;01mfrom\u001b[39;00m \u001b[38;5;21;01mNetwork\u001b[39;00m \u001b[38;5;28;01mimport\u001b[39;00m Network\n\u001b[1;32m      4\u001b[0m training_data \u001b[38;5;241m=\u001b[39m images[:\u001b[38;5;241m50_000\u001b[39m]\n",
      "File \u001b[0;32m~/Developer/apple_pieNNW/MNIST.py:1\u001b[0m\n\u001b[0;32m----> 1\u001b[0m \u001b[38;5;28;01mimport\u001b[39;00m \u001b[38;5;21;01mnumpy\u001b[39;00m \u001b[38;5;28;01mas\u001b[39;00m \u001b[38;5;21;01mnp\u001b[39;00m\n\u001b[1;32m      3\u001b[0m \u001b[38;5;66;03m# number of images to load from the MNIST dataset\u001b[39;00m\n\u001b[1;32m      4\u001b[0m NUM_IMGS \u001b[38;5;241m=\u001b[39m \u001b[38;5;241m60000\u001b[39m\n",
      "\u001b[0;31mModuleNotFoundError\u001b[0m: No module named 'numpy'"
     ]
    }
   ],
   "source": [
    "from MNIST import labels, images\n",
    "from Network import Network\n",
    "\n",
    "training_data = images[:50_000]\n",
    "training_truths = labels[:50_000]\n",
    "\n",
    "probing_data = images[50_000:]\n",
    "probing_truths = labels[50_000:]\n",
    "\n",
    "nn = Network([784, 30, 10], data=training_data, truth=training_truths)\n",
    "\n",
    "nn.train(epochs=30, batch_size=10, learning_rate=5)"
   ]
  },
  {
   "cell_type": "code",
   "execution_count": 5,
   "id": "13cd8d5b",
   "metadata": {},
   "outputs": [
    {
     "ename": "NameError",
     "evalue": "name 'nn' is not defined",
     "output_type": "error",
     "traceback": [
      "\u001b[0;31m---------------------------------------------------------------------------\u001b[0m",
      "\u001b[0;31mNameError\u001b[0m                                 Traceback (most recent call last)",
      "Cell \u001b[0;32mIn[5], line 1\u001b[0m\n\u001b[0;32m----> 1\u001b[0m \u001b[43mnn\u001b[49m\u001b[38;5;241m.\u001b[39mevaluate(probing_data, probing_truths) \u001b[38;5;241m/\u001b[39m \u001b[38;5;28mlen\u001b[39m(probing_data)\n",
      "\u001b[0;31mNameError\u001b[0m: name 'nn' is not defined"
     ]
    }
   ],
   "source": [
    "nn.evaluate(probing_data, probing_truths) / len(probing_data)"
   ]
  },
  {
   "cell_type": "code",
   "execution_count": 7,
   "id": "832fcf7a",
   "metadata": {},
   "outputs": [],
   "source": [
    "%%capture\n",
    "nn2 = Network([784, 40, 40, 10], data=training_data, truth=training_truths)\n",
    "nn.train(epochs=50, batch_size=10, learning_rate=5)"
   ]
  },
  {
   "cell_type": "code",
   "execution_count": 4,
   "id": "6bd3ce43",
   "metadata": {},
   "outputs": [
    {
     "ename": "NameError",
     "evalue": "name 'nn' is not defined",
     "output_type": "error",
     "traceback": [
      "\u001b[0;31m---------------------------------------------------------------------------\u001b[0m",
      "\u001b[0;31mNameError\u001b[0m                                 Traceback (most recent call last)",
      "Cell \u001b[0;32mIn[4], line 1\u001b[0m\n\u001b[0;32m----> 1\u001b[0m \u001b[43mnn\u001b[49m\u001b[38;5;241m.\u001b[39mevaluate(probing_data, probing_truths) \u001b[38;5;241m/\u001b[39m \u001b[38;5;28mlen\u001b[39m(probing_data)\n",
      "\u001b[0;31mNameError\u001b[0m: name 'nn' is not defined"
     ]
    }
   ],
   "source": [
    "nn.evaluate(probing_data, probing_truths) / len(probing_data)"
   ]
  },
  {
   "cell_type": "code",
   "execution_count": null,
   "id": "5051af50",
   "metadata": {},
   "outputs": [],
   "source": []
  }
 ],
 "metadata": {
  "kernelspec": {
   "display_name": "Python 3",
   "language": "python",
   "name": "python3"
  },
  "language_info": {
   "codemirror_mode": {
    "name": "ipython",
    "version": 3
   },
   "file_extension": ".py",
   "mimetype": "text/x-python",
   "name": "python",
   "nbconvert_exporter": "python",
   "pygments_lexer": "ipython3",
   "version": "3.10.8 (main, Oct 13 2022, 09:48:40) [Clang 14.0.0 (clang-1400.0.29.102)]"
  },
  "vscode": {
   "interpreter": {
    "hash": "b0fa6594d8f4cbf19f97940f81e996739fb7646882a419484c72d19e05852a7e"
   }
  }
 },
 "nbformat": 4,
 "nbformat_minor": 5
}
